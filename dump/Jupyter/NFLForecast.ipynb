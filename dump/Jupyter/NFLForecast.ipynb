{
 "cells": [
  {
   "cell_type": "code",
   "execution_count": 2,
   "id": "25203aad-7f05-4525-8d32-88eac06507df",
   "metadata": {},
   "outputs": [
    {
     "name": "stdout",
     "output_type": "stream",
     "text": [
      "Requirement already satisfied: scrapy in /Users/kingmidas/Python/dev/projects/ChatBookie/venv/lib/python3.9/site-packages (2.10.1)\n",
      "Requirement already satisfied: Twisted<23.8.0,>=18.9.0 in /Users/kingmidas/Python/dev/projects/ChatBookie/venv/lib/python3.9/site-packages (from scrapy) (22.10.0)\n",
      "Requirement already satisfied: cryptography>=36.0.0 in /Users/kingmidas/Python/dev/projects/ChatBookie/venv/lib/python3.9/site-packages (from scrapy) (41.0.3)\n",
      "Requirement already satisfied: cssselect>=0.9.1 in /Users/kingmidas/Python/dev/projects/ChatBookie/venv/lib/python3.9/site-packages (from scrapy) (1.2.0)\n",
      "Requirement already satisfied: itemloaders>=1.0.1 in /Users/kingmidas/Python/dev/projects/ChatBookie/venv/lib/python3.9/site-packages (from scrapy) (1.1.0)\n",
      "Requirement already satisfied: parsel>=1.5.0 in /Users/kingmidas/Python/dev/projects/ChatBookie/venv/lib/python3.9/site-packages (from scrapy) (1.8.1)\n",
      "Requirement already satisfied: pyOpenSSL>=21.0.0 in /Users/kingmidas/Python/dev/projects/ChatBookie/venv/lib/python3.9/site-packages (from scrapy) (23.2.0)\n",
      "Requirement already satisfied: queuelib>=1.4.2 in /Users/kingmidas/Python/dev/projects/ChatBookie/venv/lib/python3.9/site-packages (from scrapy) (1.6.2)\n",
      "Requirement already satisfied: service-identity>=18.1.0 in /Users/kingmidas/Python/dev/projects/ChatBookie/venv/lib/python3.9/site-packages (from scrapy) (23.1.0)\n",
      "Requirement already satisfied: w3lib>=1.17.0 in /Users/kingmidas/Python/dev/projects/ChatBookie/venv/lib/python3.9/site-packages (from scrapy) (2.1.2)\n",
      "Requirement already satisfied: zope.interface>=5.1.0 in /Users/kingmidas/Python/dev/projects/ChatBookie/venv/lib/python3.9/site-packages (from scrapy) (6.0)\n",
      "Requirement already satisfied: protego>=0.1.15 in /Users/kingmidas/Python/dev/projects/ChatBookie/venv/lib/python3.9/site-packages (from scrapy) (0.3.0)\n",
      "Requirement already satisfied: itemadapter>=0.1.0 in /Users/kingmidas/Python/dev/projects/ChatBookie/venv/lib/python3.9/site-packages (from scrapy) (0.8.0)\n",
      "Requirement already satisfied: setuptools in /Users/kingmidas/Python/dev/projects/ChatBookie/venv/lib/python3.9/site-packages (from scrapy) (56.0.0)\n",
      "Requirement already satisfied: packaging in /Users/kingmidas/Python/dev/projects/ChatBookie/venv/lib/python3.9/site-packages (from scrapy) (23.1)\n",
      "Requirement already satisfied: tldextract in /Users/kingmidas/Python/dev/projects/ChatBookie/venv/lib/python3.9/site-packages (from scrapy) (3.4.4)\n",
      "Requirement already satisfied: lxml>=4.4.1 in /Users/kingmidas/Python/dev/projects/ChatBookie/venv/lib/python3.9/site-packages (from scrapy) (4.9.3)\n",
      "Requirement already satisfied: PyDispatcher>=2.0.5 in /Users/kingmidas/Python/dev/projects/ChatBookie/venv/lib/python3.9/site-packages (from scrapy) (2.0.7)\n",
      "Requirement already satisfied: cffi>=1.12 in /Users/kingmidas/Python/dev/projects/ChatBookie/venv/lib/python3.9/site-packages (from cryptography>=36.0.0->scrapy) (1.15.1)\n",
      "Requirement already satisfied: jmespath>=0.9.5 in /Users/kingmidas/Python/dev/projects/ChatBookie/venv/lib/python3.9/site-packages (from itemloaders>=1.0.1->scrapy) (1.0.1)\n",
      "Requirement already satisfied: attrs>=19.1.0 in /Users/kingmidas/Python/dev/projects/ChatBookie/venv/lib/python3.9/site-packages (from service-identity>=18.1.0->scrapy) (23.1.0)\n",
      "Requirement already satisfied: pyasn1 in /Users/kingmidas/Python/dev/projects/ChatBookie/venv/lib/python3.9/site-packages (from service-identity>=18.1.0->scrapy) (0.5.0)\n",
      "Requirement already satisfied: pyasn1-modules in /Users/kingmidas/Python/dev/projects/ChatBookie/venv/lib/python3.9/site-packages (from service-identity>=18.1.0->scrapy) (0.3.0)\n",
      "Requirement already satisfied: constantly>=15.1 in /Users/kingmidas/Python/dev/projects/ChatBookie/venv/lib/python3.9/site-packages (from Twisted<23.8.0,>=18.9.0->scrapy) (15.1.0)\n",
      "Requirement already satisfied: incremental>=21.3.0 in /Users/kingmidas/Python/dev/projects/ChatBookie/venv/lib/python3.9/site-packages (from Twisted<23.8.0,>=18.9.0->scrapy) (22.10.0)\n",
      "Requirement already satisfied: Automat>=0.8.0 in /Users/kingmidas/Python/dev/projects/ChatBookie/venv/lib/python3.9/site-packages (from Twisted<23.8.0,>=18.9.0->scrapy) (22.10.0)\n",
      "Requirement already satisfied: hyperlink>=17.1.1 in /Users/kingmidas/Python/dev/projects/ChatBookie/venv/lib/python3.9/site-packages (from Twisted<23.8.0,>=18.9.0->scrapy) (21.0.0)\n",
      "Requirement already satisfied: typing-extensions>=3.6.5 in /Users/kingmidas/Python/dev/projects/ChatBookie/venv/lib/python3.9/site-packages (from Twisted<23.8.0,>=18.9.0->scrapy) (4.7.1)\n",
      "Requirement already satisfied: idna in /Users/kingmidas/Python/dev/projects/ChatBookie/venv/lib/python3.9/site-packages (from tldextract->scrapy) (3.4)\n",
      "Requirement already satisfied: requests>=2.1.0 in /Users/kingmidas/Python/dev/projects/ChatBookie/venv/lib/python3.9/site-packages (from tldextract->scrapy) (2.31.0)\n",
      "Requirement already satisfied: requests-file>=1.4 in /Users/kingmidas/Python/dev/projects/ChatBookie/venv/lib/python3.9/site-packages (from tldextract->scrapy) (1.5.1)\n",
      "Requirement already satisfied: filelock>=3.0.8 in /Users/kingmidas/Python/dev/projects/ChatBookie/venv/lib/python3.9/site-packages (from tldextract->scrapy) (3.12.3)\n",
      "Requirement already satisfied: six in /Users/kingmidas/Python/dev/projects/ChatBookie/venv/lib/python3.9/site-packages (from Automat>=0.8.0->Twisted<23.8.0,>=18.9.0->scrapy) (1.16.0)\n",
      "Requirement already satisfied: pycparser in /Users/kingmidas/Python/dev/projects/ChatBookie/venv/lib/python3.9/site-packages (from cffi>=1.12->cryptography>=36.0.0->scrapy) (2.21)\n",
      "Requirement already satisfied: charset-normalizer<4,>=2 in /Users/kingmidas/Python/dev/projects/ChatBookie/venv/lib/python3.9/site-packages (from requests>=2.1.0->tldextract->scrapy) (3.2.0)\n",
      "Requirement already satisfied: urllib3<3,>=1.21.1 in /Users/kingmidas/Python/dev/projects/ChatBookie/venv/lib/python3.9/site-packages (from requests>=2.1.0->tldextract->scrapy) (2.0.4)\n",
      "Requirement already satisfied: certifi>=2017.4.17 in /Users/kingmidas/Python/dev/projects/ChatBookie/venv/lib/python3.9/site-packages (from requests>=2.1.0->tldextract->scrapy) (2023.7.22)\n"
     ]
    }
   ],
   "source": [
    "!pip install scrapy"
   ]
  },
  {
   "cell_type": "code",
   "execution_count": 5,
   "id": "17fc8bc8-9d81-4258-b8d8-d3115591bd2f",
   "metadata": {},
   "outputs": [
    {
     "ename": "ModuleNotFoundError",
     "evalue": "No module named 'scrapy'",
     "output_type": "error",
     "traceback": [
      "\u001b[0;31m---------------------------------------------------------------------------\u001b[0m",
      "\u001b[0;31mModuleNotFoundError\u001b[0m                       Traceback (most recent call last)",
      "\u001b[0;32m/var/folders/bj/1h6j3mz942j1bscfs200l0y40000gn/T/ipykernel_17045/53124703.py\u001b[0m in \u001b[0;36m<module>\u001b[0;34m\u001b[0m\n\u001b[1;32m      1\u001b[0m \u001b[0;32mimport\u001b[0m \u001b[0mrequests\u001b[0m\u001b[0;34m\u001b[0m\u001b[0;34m\u001b[0m\u001b[0m\n\u001b[1;32m      2\u001b[0m \u001b[0;32mfrom\u001b[0m \u001b[0mbs4\u001b[0m \u001b[0;32mimport\u001b[0m \u001b[0mBeautifulSoup\u001b[0m\u001b[0;34m\u001b[0m\u001b[0;34m\u001b[0m\u001b[0m\n\u001b[0;32m----> 3\u001b[0;31m \u001b[0;32mimport\u001b[0m \u001b[0mscrapy\u001b[0m\u001b[0;34m\u001b[0m\u001b[0;34m\u001b[0m\u001b[0m\n\u001b[0m\u001b[1;32m      4\u001b[0m \u001b[0;32mfrom\u001b[0m \u001b[0mselenium\u001b[0m \u001b[0;32mimport\u001b[0m \u001b[0mwebdriver\u001b[0m\u001b[0;34m\u001b[0m\u001b[0;34m\u001b[0m\u001b[0m\n\u001b[1;32m      5\u001b[0m \u001b[0;34m\u001b[0m\u001b[0m\n",
      "\u001b[0;31mModuleNotFoundError\u001b[0m: No module named 'scrapy'"
     ]
    }
   ],
   "source": [
    "import requests\n",
    "from bs4 import BeautifulSoup\n",
    "import scrapy\n",
    "from selenium import webdriver\n",
    "\n",
    "# You can also import other libraries as needed\n",
    "import pandas as pd\n",
    "import numpy as np"
   ]
  },
  {
   "cell_type": "code",
   "execution_count": 4,
   "id": "b90d79ad-210a-491c-a141-db2346f5c38d",
   "metadata": {},
   "outputs": [
    {
     "name": "stdout",
     "output_type": "stream",
     "text": [
      "[]\n"
     ]
    }
   ],
   "source": [
    "# Fetch HTML content\n",
    "url = \"https://example.com\"\n",
    "response = requests.get(url)\n",
    "html_content = response.content\n",
    "\n",
    "# Parse HTML with BeautifulSoup\n",
    "soup = BeautifulSoup(html_content, \"html.parser\")\n",
    "\n",
    "# Extract data\n",
    "data = []\n",
    "for item in soup.find_all(\"div\", class_=\"item\"):\n",
    "    data.append(item.text.strip())\n",
    "\n",
    "# Print or save the data\n",
    "print(data)"
   ]
  },
  {
   "cell_type": "code",
   "execution_count": null,
   "id": "f3129a76-d7cc-4179-a31e-8f6db53a8fd0",
   "metadata": {},
   "outputs": [],
   "source": []
  }
 ],
 "metadata": {
  "kernelspec": {
   "display_name": "Python 3 (ipykernel)",
   "language": "python",
   "name": "python3"
  },
  "language_info": {
   "codemirror_mode": {
    "name": "ipython",
    "version": 3
   },
   "file_extension": ".py",
   "mimetype": "text/x-python",
   "name": "python",
   "nbconvert_exporter": "python",
   "pygments_lexer": "ipython3",
   "version": "3.9.1"
  }
 },
 "nbformat": 4,
 "nbformat_minor": 5
}
